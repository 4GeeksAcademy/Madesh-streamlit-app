{
 "cells": [
  {
   "cell_type": "markdown",
   "id": "c3d22ff4",
   "metadata": {},
   "source": [
    "# Movie Recommender Model using KNN Algorithm"
   ]
  },
  {
   "cell_type": "markdown",
   "id": "b7c35052",
   "metadata": {},
   "source": [
    "## 1. Import Modules "
   ]
  },
  {
   "cell_type": "code",
   "execution_count": 1,
   "id": "1e0ef803",
   "metadata": {},
   "outputs": [],
   "source": [
    "import pickle\n",
    "import json\n",
    "import pandas as pd\n",
    "from sklearn.feature_extraction.text import TfidfVectorizer\n",
    "from sklearn.neighbors import NearestNeighbors"
   ]
  }
 ],
 "metadata": {
  "kernelspec": {
   "display_name": "Python 3",
   "language": "python",
   "name": "python3"
  },
  "language_info": {
   "codemirror_mode": {
    "name": "ipython",
    "version": 3
   },
   "file_extension": ".py",
   "mimetype": "text/x-python",
   "name": "python",
   "nbconvert_exporter": "python",
   "pygments_lexer": "ipython3",
   "version": "3.11.4"
  }
 },
 "nbformat": 4,
 "nbformat_minor": 5
}
